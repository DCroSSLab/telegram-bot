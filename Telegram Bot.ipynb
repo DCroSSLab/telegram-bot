{
 "cells": [
  {
   "cell_type": "code",
   "execution_count": 1,
   "id": "traditional-virtue",
   "metadata": {},
   "outputs": [],
   "source": [
    "API_KEY = '1440680738:AAF6Ge-OlR6ag-XJ2Xp6wchU5IhVbxLcL0E'"
   ]
  },
  {
   "cell_type": "code",
   "execution_count": 4,
   "id": "natural-oriental",
   "metadata": {},
   "outputs": [],
   "source": [
    "def sample_responses(input_text) :\n",
    "    user_message = str(input_text).lower()\n",
    "\n",
    "    if user_message in ('hi', 'hello', 'howdy'):\n",
    "        return 'How I can help you? Choose from the following \\n /report - to report about an disaster \\n /help - to get help \\n /location - to give us location \\n /exit - to exit'\n",
    "    \n",
    "    if user_message in ('who are you', 'who are you?'):\n",
    "        return 'Hey there! My name is Crowdsourced bot and I will help you today!! Type /start to get started' \n",
    "    return 'DCroSS team working their best to help you. Anything Else? type /menu for the menu'\n"
   ]
  },
  {
   "cell_type": "code",
   "execution_count": 5,
   "id": "flexible-cover",
   "metadata": {},
   "outputs": [],
   "source": [
    "\n",
    "from telegram.ext import *\n"
   ]
  },
  {
   "cell_type": "code",
   "execution_count": null,
   "id": "primary-colon",
   "metadata": {},
   "outputs": [
    {
     "name": "stdout",
     "output_type": "stream",
     "text": [
      "Update {'update_id': 717195643, 'message': {'message_id': 94, 'date': 1614177918, 'chat': {'id': 1010182795, 'type': 'private', 'username': 'Priya_dev_exe', 'first_name': 'Zenos'}, 'text': '/report', 'entities': [{'type': 'bot_command', 'offset': 0, 'length': 7}], 'caption_entities': [], 'photo': [], 'new_chat_members': [], 'new_chat_photo': [], 'delete_chat_photo': False, 'group_chat_created': False, 'supergroup_chat_created': False, 'channel_chat_created': False, 'from': {'id': 1010182795, 'first_name': 'Zenos', 'is_bot': False, 'username': 'Priya_dev_exe', 'language_code': 'en'}}} caused error Forbidden: bot was blocked by the user\n"
     ]
    }
   ],
   "source": [
    "def start_command(update, context):\n",
    "    update.message.reply_text('Hey there! My name is Crowdsourced bot and I will help you today!! Choose from the following \\n /report - to report about an disaster \\n /help - to get help \\n /location - to give us location \\n /exit - to exit')\n",
    "\n",
    "def yes_command(update, context):\n",
    "    update.message.reply_text('Please describe about the disaster and after describing type /location to give us location')\n",
    "    \n",
    "def report_command(update,context):\n",
    "    update.message.reply_text('Do you want to report about disaster /yes or /no')\n",
    "    \n",
    "def no_command(update, context):\n",
    "    update.message.reply_text('Choose from the following \\n /report - to report about an disaster \\n /help - to get help \\n /location - to give us location \\n /exit - to exit')\n",
    "\n",
    "def location_command(update, context):\n",
    "    update.message.reply_text('Please give your location so that we can help you')\n",
    "    \n",
    "def menu_command(update, context):\n",
    "    update.message.reply_text('Choose from the following \\n /report - to report about an disaster \\n /help - to get help')\n",
    "    \n",
    "def help_command(update, context):\n",
    "    update.message.reply_text('How may I help you? Choose from the following \\n /report - to report a disaster \\n /location - to give us location')\n",
    "\n",
    "def exit_command(update,context):\n",
    "    update.message.reply_text('Thankyou for contacting DCroSS')\n",
    "    \n",
    "def handle_message(update, context):\n",
    "    text = str(update.message.text).lower()\n",
    "    response  = sample_responses(text)\n",
    "\n",
    "    update.message.reply_text(response)\n",
    "\n",
    "def error(update, context):\n",
    "    print(f'Update {update} caused error {context.error}')\n",
    "\n",
    "def main():\n",
    "    updater = Updater(API_KEY, use_context= True)\n",
    "    dp = updater.dispatcher\n",
    "\n",
    "    dp.add_handler(CommandHandler('start', start_command))\n",
    "    dp.add_handler(CommandHandler('help', help_command))\n",
    "    dp.add_handler(CommandHandler('yes', yes_command))\n",
    "    dp.add_handler(CommandHandler('no', no_command))\n",
    "    dp.add_handler(CommandHandler('report', report_command))\n",
    "    dp.add_handler(CommandHandler('location', location_command))\n",
    "    dp.add_handler(CommandHandler('menu', menu_command))\n",
    "    dp.add_handler(CommandHandler('exit', exit_command))\n",
    "    dp.add_handler(MessageHandler(Filters.text, handle_message))\n",
    "    \n",
    "    dp.add_error_handler(error)\n",
    "\n",
    "    updater.start_polling(0)\n",
    "    updater.idle()\n",
    "\n",
    "main()"
   ]
  },
  {
   "cell_type": "code",
   "execution_count": null,
   "id": "composed-spouse",
   "metadata": {},
   "outputs": [],
   "source": []
  }
 ],
 "metadata": {
  "kernelspec": {
   "display_name": "Python 3",
   "language": "python",
   "name": "python3"
  },
  "language_info": {
   "codemirror_mode": {
    "name": "ipython",
    "version": 3
   },
   "file_extension": ".py",
   "mimetype": "text/x-python",
   "name": "python",
   "nbconvert_exporter": "python",
   "pygments_lexer": "ipython3",
   "version": "3.7.6"
  }
 },
 "nbformat": 4,
 "nbformat_minor": 5
}
